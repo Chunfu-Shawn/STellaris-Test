{
 "cells": [
  {
   "cell_type": "code",
   "execution_count": 6,
   "metadata": {},
   "outputs": [],
   "source": [
    "## Script: data_preprocessing.py\n",
    "## Description: Perform scRNA-seq preprocessing\n",
    "## Author: Chunfu Shawn\n",
    "## Date: 2022.9.26\n",
    "\n",
    "import argparse\n",
    "import os\n",
    "import sys\n",
    "import numpy as np\n",
    "import pandas as pd\n",
    "import scanpy as sc\n",
    "import scanpy as sc\n",
    "import matplotlib.pyplot as plt"
   ]
  },
  {
   "cell_type": "code",
   "execution_count": 7,
   "metadata": {},
   "outputs": [],
   "source": [
    "def preprocessing(rid, raw_path):\n",
    "    # 用于存储分析结果文件的路径\n",
    "    results_file = rid + '.h5ad'\n",
    "    # 载入文件\n",
    "    # 文件下面要有3个初始文件包括：\n",
    "    # barcodes,genes,matrix\n",
    "    adata = sc.read_10x_mtx(\n",
    "        raw_path,  # mtx 文件目录\n",
    "        var_names='gene_symbols',  # 使用 gene_symbols 作为变量名\n",
    "        cache=True)  # 写入缓存，可以更快的读取文件\n",
    "    adata.var_names_make_unique()\n",
    "    n_cells = adata.obs.shape  # 细胞数\n",
    "    n_genes = adata.var.shape  # 基因数\n",
    "    sc.pp.filter_cells(adata, min_genes=200)  # 每一个细胞至少表达200个基因\n",
    "    sc.pp.filter_genes(adata, min_cells=3)  # 每一个基因至少在3个细胞中表达\n",
    "    # 抽取带有MT的字符串\n",
    "    adata.var['mt'] = adata.var_names.str.startswith('MT-')\n",
    "    # 数据过滤\n",
    "    sc.pp.calculate_qc_metrics(adata, qc_vars=['mt'], percent_top=None, log1p=False, inplace=True)\n",
    "    # 过滤后可视化，并保存到工作目录下\n",
    "    sc.pl.violin(adata, ['n_genes_by_counts'], jitter=0.4, save='n_genes_by_counts_violin.svg')\n",
    "    sc.pl.violin(adata, ['total_counts'], jitter=0.4, save='total_counts_violin.svg')\n",
    "    sc.pl.violin(adata, ['pct_counts_mt'], jitter=0.4, save='pct_counts_mt_violin.svg')\n",
    "\n",
    "    # NormalizeData\n",
    "    sc.pp.normalize_total(adata, target_sum=1e4)  # 不要和log顺序搞反了 ，这个是去文库的\n",
    "    sc.pp.log1p(adata)\n",
    "    sc.pp.highly_variable_genes(adata, min_mean=0.0125, max_mean=3, min_disp=0.5)\n",
    "\n",
    "    # 保存一下原始数据\n",
    "    adata.raw = adata\n",
    "    # 提取高变基因\n",
    "    adata = adata[:, adata.var.highly_variable]\n",
    "    # 过滤掉没用的东西\n",
    "    sc.pp.regress_out(adata, ['total_counts', 'pct_counts_mt'])\n",
    "    # 中心化\n",
    "    sc.pp.scale(adata, max_value=10)\n",
    "    # pca\n",
    "    sc.tl.pca(adata, svd_solver='arpack')\n",
    "    # 构建图\n",
    "    sc.pp.neighbors(adata, n_neighbors=10, n_pcs=40)\n",
    "    # umap\n",
    "    sc.tl.umap(adata)\n",
    "    # leiden 聚类\n",
    "    sc.tl.leiden(adata)\n",
    "    # 绘图\n",
    "    sc.pl.pca(adata, color=['leiden'], save='pca.svg')\n",
    "    sc.pl.umap(adata, color=['leiden'], save='umap.svg')\n",
    "    # 输出结果\n",
    "    adata.write(results_file)\n",
    "    return adata\n",
    "    "
   ]
  },
  {
   "cell_type": "code",
   "execution_count": 8,
   "metadata": {},
   "outputs": [],
   "source": [
    "os.chdir('../../datasets/')"
   ]
  },
  {
   "cell_type": "code",
   "execution_count": null,
   "metadata": {},
   "outputs": [],
   "source": [
    "preprocessing('test','../../datasets/test')"
   ]
  }
 ],
 "metadata": {
  "kernelspec": {
   "display_name": "Python 3",
   "language": "python",
   "name": "python3"
  },
  "language_info": {
   "codemirror_mode": {
    "name": "ipython",
    "version": 3
   },
   "file_extension": ".py",
   "mimetype": "text/x-python",
   "name": "python",
   "nbconvert_exporter": "python",
   "pygments_lexer": "ipython3",
   "version": "3.8.3"
  }
 },
 "nbformat": 4,
 "nbformat_minor": 4
}
